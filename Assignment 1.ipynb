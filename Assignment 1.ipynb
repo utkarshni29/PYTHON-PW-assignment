{
 "cells": [
  {
   "cell_type": "markdown",
   "id": "4bb588cc-074a-49a0-a461-66eb479f00d7",
   "metadata": {},
   "source": [
    "Swap Two Variables x & Y"
   ]
  },
  {
   "cell_type": "code",
   "execution_count": null,
   "id": "8904b7e5-260e-497a-b3ca-5b3c9ac96db8",
   "metadata": {},
   "outputs": [],
   "source": [
    "x = 5\n",
    "y = 10"
   ]
  },
  {
   "cell_type": "code",
   "execution_count": 2,
   "id": "d0ba67a6-cfc3-4f0e-a076-ba1c271a9c1e",
   "metadata": {},
   "outputs": [
    {
     "name": "stdin",
     "output_type": "stream",
     "text": [
      "Enter value of x: 5\n",
      "Enter value of y: 10\n"
     ]
    },
    {
     "name": "stdout",
     "output_type": "stream",
     "text": [
      "The value of x after swapping: 10\n",
      "The value of y after swapping: 5\n"
     ]
    }
   ],
   "source": [
    "x = input('Enter value of x:')\n",
    "y = input('Enter value of y:')\n",
    "temp = x\n",
    "x = y\n",
    "y = temp\n",
    "\n",
    "print('The value of x after swapping: {}' .format(x))\n",
    "print('The value of y after swapping: {}' .format(y))"
   ]
  },
  {
   "cell_type": "markdown",
   "id": "aa199042-97b9-4143-a65d-362199409e63",
   "metadata": {},
   "source": [
    "create a program to calculate area of rectangle"
   ]
  },
  {
   "cell_type": "code",
   "execution_count": 14,
   "id": "42e87958-c33e-4608-bf90-6381590d67d8",
   "metadata": {},
   "outputs": [
    {
     "name": "stdin",
     "output_type": "stream",
     "text": [
      "enter the length of a rectangle:  29\n",
      "enter the breadth of a rectangle:  13\n"
     ]
    },
    {
     "name": "stdout",
     "output_type": "stream",
     "text": [
      "377.0\n"
     ]
    }
   ],
   "source": [
    "a = float(input(\"enter the length of a rectangle: \"))\n",
    "b = float(input(\"enter the breadth of a rectangle: \"))\n",
    "area = a*b\n",
    "print(area)"
   ]
  },
  {
   "cell_type": "markdown",
   "id": "a0c194ef-bec9-4196-a932-1d9e950a7190",
   "metadata": {},
   "source": [
    "code for converting temperature from celsius to fahrenheit"
   ]
  },
  {
   "cell_type": "code",
   "execution_count": 1,
   "id": "d32e4f21-82fe-4f82-a170-d9a4e23af46a",
   "metadata": {},
   "outputs": [
    {
     "name": "stdin",
     "output_type": "stream",
     "text": [
      "Enter temperature in celsius:  56\n"
     ]
    },
    {
     "name": "stdout",
     "output_type": "stream",
     "text": [
      "Temperature in Fahrenheit: 132.8\n"
     ]
    }
   ],
   "source": [
    "celsius = float(input(\"Enter temperature in celsius: \"))\n",
    "fahrenheit = (celsius * 9/5) + 32\n",
    "print(\"Temperature in Fahrenheit:\",fahrenheit)"
   ]
  },
  {
   "cell_type": "markdown",
   "id": "eef2b55b-8d4b-441d-b86c-d95ed6e7bf91",
   "metadata": {},
   "source": [
    "write a python program that takes a string as input and prints the length of the string"
   ]
  },
  {
   "cell_type": "code",
   "execution_count": 1,
   "id": "7a2260ef-265e-4739-b0d7-3ffaa34f15d2",
   "metadata": {},
   "outputs": [
    {
     "name": "stdin",
     "output_type": "stream",
     "text": [
      "Enter a string 'Hello PWskills'\n"
     ]
    },
    {
     "name": "stdout",
     "output_type": "stream",
     "text": [
      "The length of the string is: 16\n"
     ]
    }
   ],
   "source": [
    "string = input(\"Enter a string\")\n",
    "length = len(string)\n",
    "print(\"The length of the string is:\",length)"
   ]
  },
  {
   "cell_type": "markdown",
   "id": "cdf8913c-2849-4e0e-85c7-535ef46348a9",
   "metadata": {},
   "source": [
    "write a program that takes a sentence from user and counts the number of vowels"
   ]
  },
  {
   "cell_type": "code",
   "execution_count": 2,
   "id": "394f92f2-a0ec-4347-9de2-8169a60e31e2",
   "metadata": {},
   "outputs": [
    {
     "name": "stdin",
     "output_type": "stream",
     "text": [
      "Enter a sentence: I am a college student \n"
     ]
    },
    {
     "name": "stdout",
     "output_type": "stream",
     "text": [
      "The number of vowels in the sentence is: 8\n"
     ]
    }
   ],
   "source": [
    "sentence = input(\"Enter a sentence:\")\n",
    "vowel_count = 0\n",
    "vowels = \"aeiouAEIOU\"\n",
    "\n",
    "for char in sentence:\n",
    "    if char in vowels:\n",
    "        vowel_count +=1\n",
    "        \n",
    "print(\"The number of vowels in the sentence is:\",vowel_count)        \n",
    "    "
   ]
  },
  {
   "cell_type": "markdown",
   "id": "56f9c921-9366-48c5-89cc-ff704b68aeef",
   "metadata": {},
   "source": [
    "Given a string , reverse the order of character using string slicing & print the reverse string"
   ]
  },
  {
   "cell_type": "code",
   "execution_count": 6,
   "id": "4000ca57-db3c-4f00-87d1-5080d7b8d63d",
   "metadata": {},
   "outputs": [
    {
     "name": "stdin",
     "output_type": "stream",
     "text": [
      "Enter a string:  'Hello Alakh Sir'\n"
     ]
    },
    {
     "name": "stdout",
     "output_type": "stream",
     "text": [
      "Reverse string:  'riS hkalA olleH'\n"
     ]
    }
   ],
   "source": [
    "string = input(\"Enter a string: \")\n",
    "reverse_string = string[::-1]\n",
    "print(\"Reverse string: \",reverse_string)"
   ]
  },
  {
   "cell_type": "markdown",
   "id": "3454f1ef-4561-4961-953e-f55c93cdc4a5",
   "metadata": {},
   "source": [
    "Write a program that takes a string as input and check if it is a palindrome"
   ]
  },
  {
   "cell_type": "code",
   "execution_count": 10,
   "id": "f0944bf4-f231-4c1b-9997-426881b8dd00",
   "metadata": {},
   "outputs": [
    {
     "name": "stdin",
     "output_type": "stream",
     "text": [
      "Enter a string:  GAATTCTTCGAA\n"
     ]
    },
    {
     "name": "stdout",
     "output_type": "stream",
     "text": [
      "It's not a Palindrome!\n"
     ]
    }
   ],
   "source": [
    "string = input(\"Enter a string: \")\n",
    "reverse_string = string[::-1]\n",
    "\n",
    "if string == reverse_string:\n",
    "    print(\"It is a Palindrome!\")\n",
    "else:\n",
    "    print(\"It's not a Palindrome!\")"
   ]
  },
  {
   "cell_type": "markdown",
   "id": "6b1bff48-b95d-4905-8b42-232757c44053",
   "metadata": {},
   "source": [
    "Create a program that takes a string as input and removes all spaces from  it . Print the modified string without spaces "
   ]
  },
  {
   "cell_type": "code",
   "execution_count": 20,
   "id": "6e0d8693-4735-4c7b-9dc5-c5f34c008f56",
   "metadata": {},
   "outputs": [
    {
     "name": "stdin",
     "output_type": "stream",
     "text": [
      "Enter a string: 'Hello Influencers !!'\n"
     ]
    },
    {
     "name": "stdout",
     "output_type": "stream",
     "text": [
      "Modified string without spaces: 'HelloInfluencers!!'\n"
     ]
    }
   ],
   "source": [
    "string = input(\"Enter a string:\")\n",
    "modified_string = \"\".join(string.split())\n",
    "print(\"Modified string without spaces:\",modified_string)"
   ]
  },
  {
   "cell_type": "code",
   "execution_count": null,
   "id": "35a77e86-0171-4768-8518-1818617ea418",
   "metadata": {},
   "outputs": [],
   "source": []
  }
 ],
 "metadata": {
  "kernelspec": {
   "display_name": "Python 3 (ipykernel)",
   "language": "python",
   "name": "python3"
  },
  "language_info": {
   "codemirror_mode": {
    "name": "ipython",
    "version": 3
   },
   "file_extension": ".py",
   "mimetype": "text/x-python",
   "name": "python",
   "nbconvert_exporter": "python",
   "pygments_lexer": "ipython3",
   "version": "3.10.8"
  }
 },
 "nbformat": 4,
 "nbformat_minor": 5
}
